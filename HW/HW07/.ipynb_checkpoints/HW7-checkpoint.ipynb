{
 "cells": [
  {
   "cell_type": "markdown",
   "metadata": {},
   "source": [
    "# Homework #7\n",
    "### Compute mean, variance, and standard diviation for a list, and save in a dictionary."
   ]
  },
  {
   "cell_type": "code",
   "execution_count": 1,
   "metadata": {},
   "outputs": [
    {
     "data": {
      "text/plain": [
       "{'mean': 4.314285714285714,\n",
       " 'variance': 6.655510204081632,\n",
       " 'std': 2.5798275531673878}"
      ]
     },
     "execution_count": 1,
     "metadata": {},
     "output_type": "execute_result"
    }
   ],
   "source": [
    "def compute_status(x):\n",
    "    import numpy as np\n",
    "    ans_dict={}\n",
    "    ans_name_list=['mean','variance','std']\n",
    "    m = np.mean(x)\n",
    "    v = np.var(x)\n",
    "    s = np.std(x)\n",
    "    ans_values_list=[m,v,s]\n",
    "    for i in range(len(ans_name_list)):\n",
    "        ans_dict[ans_name_list[i]]=ans_values_list[i]\n",
    "    return ans_dict\n",
    "x = [1.5,5.2,1,4.3,0.9,7,8.6,3.9,5,9,2,4,6,2]\n",
    "compute_status(x)"
   ]
  },
  {
   "cell_type": "code",
   "execution_count": 7,
   "metadata": {
    "scrolled": true
   },
   "outputs": [
    {
     "name": "stdout",
     "output_type": "stream",
     "text": [
      "Enter a series of numbers or type \"Stop\" to quit 1.5\n",
      "Enter a series of numbers or type \"Stop\" to quit 2\n",
      "Enter a series of numbers or type \"Stop\" to quit 4\n",
      "Enter a series of numbers or type \"Stop\" to quit 2.5\n",
      "Enter a series of numbers or type \"Stop\" to quit 6\n",
      "Enter a series of numbers or type \"Stop\" to quit 6.5\n",
      "Enter a series of numbers or type \"Stop\" to quit 7\n",
      "Enter a series of numbers or type \"Stop\" to quit 8\n",
      "Enter a series of numbers or type \"Stop\" to quit 4\n",
      "Enter a series of numbers or type \"Stop\" to quit 5.6\n",
      "Enter a series of numbers or type \"Stop\" to quit 2.7\n",
      "Enter a series of numbers or type \"Stop\" to quit 8.9\n",
      "Enter a series of numbers or type \"Stop\" to quit 10\n",
      "Enter a series of numbers or type \"Stop\" to quit 11\n",
      "Enter a series of numbers or type \"Stop\" to quit 2.7\n",
      "Enter a series of numbers or type \"Stop\" to quit 8.5\n",
      "Enter a series of numbers or type \"Stop\" to quit Stop\n",
      "The mean of numbers input is: 5.68125\n"
     ]
    }
   ],
   "source": [
    "import numpy as np\n",
    "try:\n",
    "    l = []\n",
    "    while True:\n",
    "        l.append(float(input('Enter a series of numbers or type \"Stop\" to quit ')))\n",
    "except:\n",
    "    print('The mean of numbers input is: '+str(np.mean(l)))"
   ]
  },
  {
   "cell_type": "code",
   "execution_count": 1,
   "metadata": {},
   "outputs": [
    {
     "ename": "NameError",
     "evalue": "name 'np' is not defined",
     "output_type": "error",
     "traceback": [
      "\u001b[0;31m---------------------------------------------------------------------------\u001b[0m",
      "\u001b[0;31mNameError\u001b[0m                                 Traceback (most recent call last)",
      "\u001b[0;32m<ipython-input-1-67487016ef70>\u001b[0m in \u001b[0;36m<module>\u001b[0;34m\u001b[0m\n\u001b[0;32m----> 1\u001b[0;31m \u001b[0ml\u001b[0m \u001b[0;34m=\u001b[0m \u001b[0mnp\u001b[0m\u001b[0;34m.\u001b[0m\u001b[0marange\u001b[0m\u001b[0;34m(\u001b[0m\u001b[0;36m0.01\u001b[0m\u001b[0;34m,\u001b[0m \u001b[0;36m0.56\u001b[0m\u001b[0;34m,\u001b[0m \u001b[0;36m0.05\u001b[0m\u001b[0;34m)\u001b[0m\u001b[0;34m\u001b[0m\u001b[0;34m\u001b[0m\u001b[0m\n\u001b[0m",
      "\u001b[0;31mNameError\u001b[0m: name 'np' is not defined"
     ]
    }
   ],
   "source": [
    "l = np.arange(0.01, 0.56, 0.05)"
   ]
  },
  {
   "cell_type": "code",
   "execution_count": null,
   "metadata": {},
   "outputs": [],
   "source": []
  }
 ],
 "metadata": {
  "kernelspec": {
   "display_name": "Python 3",
   "language": "python",
   "name": "python3"
  },
  "language_info": {
   "codemirror_mode": {
    "name": "ipython",
    "version": 3
   },
   "file_extension": ".py",
   "mimetype": "text/x-python",
   "name": "python",
   "nbconvert_exporter": "python",
   "pygments_lexer": "ipython3",
   "version": "3.7.3"
  }
 },
 "nbformat": 4,
 "nbformat_minor": 2
}
