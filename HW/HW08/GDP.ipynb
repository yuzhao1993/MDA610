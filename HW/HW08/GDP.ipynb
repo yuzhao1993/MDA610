{
 "cells": [
  {
   "cell_type": "markdown",
   "metadata": {},
   "source": [
    "# GDP Data Analysis with Numpy\n",
    "\n",
    "-  We will analyze the [World Bank national GDP data](https://data.worldbank.org/indicator/NY.GDP.MKTP.CD) from 2012 to 2017.\n",
    "-  Data file `GDP.csv` is downloadable from the class repository."
   ]
  },
  {
   "cell_type": "code",
   "execution_count": 1,
   "metadata": {},
   "outputs": [],
   "source": [
    "# import pandas\n",
    "import pandas as pd\n",
    "# import Numpy\n",
    "import numpy as np"
   ]
  },
  {
   "cell_type": "markdown",
   "metadata": {},
   "source": [
    "## Load the Data Set\n",
    "\n",
    "-  The code snippet below reads the data set and generates `gdp`, a Numpy ndarray."
   ]
  },
  {
   "cell_type": "code",
   "execution_count": 2,
   "metadata": {
    "scrolled": true
   },
   "outputs": [],
   "source": [
    "# load the data set\n",
    "df = pd.read_csv('GDP.csv')\n",
    "# gdp is a numpy ndarray\n",
    "gdp = df.loc[:, '2012':'2017'].values"
   ]
  },
  {
   "cell_type": "markdown",
   "metadata": {},
   "source": [
    "## Explore Data\n",
    "\n",
    "-  In this section and the next, explore and manipulate the data in the Numpy array `gdp`.\n",
    "-  The array contains the national GDP data (in trillion US Dollars) from 2012 through 2017. The countries are organized by rows. Each column includes the national GDP data in a year. \n",
    "-  Write a Python code snippet with Numpy to answer each question. Do **not** use any explicit loop."
   ]
  },
  {
   "cell_type": "markdown",
   "metadata": {},
   "source": [
    "### Question 1. How many rows (countries) are there in array `gdp`?"
   ]
  },
  {
   "cell_type": "code",
   "execution_count": 3,
   "metadata": {},
   "outputs": [
    {
     "data": {
      "text/plain": [
       "197"
      ]
     },
     "execution_count": 3,
     "metadata": {},
     "output_type": "execute_result"
    }
   ],
   "source": [
    "pass\n",
    "gdp.shape[0]"
   ]
  },
  {
   "cell_type": "markdown",
   "metadata": {},
   "source": [
    "### Question 2. How many columns (years) are there in array `gdp`?"
   ]
  },
  {
   "cell_type": "code",
   "execution_count": 4,
   "metadata": {
    "scrolled": true
   },
   "outputs": [
    {
     "data": {
      "text/plain": [
       "6"
      ]
     },
     "execution_count": 4,
     "metadata": {},
     "output_type": "execute_result"
    }
   ],
   "source": [
    "pass\n",
    "gdp.shape[1]"
   ]
  },
  {
   "cell_type": "markdown",
   "metadata": {},
   "source": [
    "### Question 3. What is the data type of array `gdp`?"
   ]
  },
  {
   "cell_type": "code",
   "execution_count": 5,
   "metadata": {},
   "outputs": [
    {
     "data": {
      "text/plain": [
       "numpy.ndarray"
      ]
     },
     "execution_count": 5,
     "metadata": {},
     "output_type": "execute_result"
    }
   ],
   "source": [
    "pass\n",
    "type(gdp)"
   ]
  },
  {
   "cell_type": "markdown",
   "metadata": {},
   "source": [
    "### Question 4. Output the first five countries' GDPs from 2013 through 2016 (from the second column through the fifth column). "
   ]
  },
  {
   "cell_type": "code",
   "execution_count": 6,
   "metadata": {},
   "outputs": [
    {
     "data": {
      "text/plain": [
       "array([[0.0206, 0.0205, 0.0199, 0.0194],\n",
       "       [0.0128, 0.0132, 0.0114, 0.0119],\n",
       "       [0.2098, 0.2138, 0.166 , 0.1601],\n",
       "       [0.0006, 0.0006, 0.0007, 0.0007],\n",
       "       [0.0033, 0.0034, 0.0028, 0.0029]])"
      ]
     },
     "execution_count": 6,
     "metadata": {},
     "output_type": "execute_result"
    }
   ],
   "source": [
    "pass\n",
    "\n",
    "gdp[:, 1:5][0:5]"
   ]
  },
  {
   "cell_type": "markdown",
   "metadata": {},
   "source": [
    "### Question 5. Output the last ten countries' GDPs in 2017 (the last column)."
   ]
  },
  {
   "cell_type": "code",
   "execution_count": 7,
   "metadata": {},
   "outputs": [
    {
     "data": {
      "text/plain": [
       "array([1.94854e+01, 5.65000e-02, 5.92000e-02, 8.00000e-04, 2.23800e-01,\n",
       "       3.90000e-03, 1.45000e-02, 2.68000e-02, 2.59000e-02, 2.28000e-02])"
      ]
     },
     "execution_count": 7,
     "metadata": {},
     "output_type": "execute_result"
    }
   ],
   "source": [
    "pass\n",
    "gdp[:,5][-10:]"
   ]
  },
  {
   "cell_type": "markdown",
   "metadata": {},
   "source": [
    "### Question 6. Was the eighth country's GDP in 2017 higher than 0.5 trillion US Dollars? (True or false?)"
   ]
  },
  {
   "cell_type": "code",
   "execution_count": 8,
   "metadata": {},
   "outputs": [
    {
     "data": {
      "text/plain": [
       "True"
      ]
     },
     "execution_count": 8,
     "metadata": {},
     "output_type": "execute_result"
    }
   ],
   "source": [
    "pass\n",
    "gdp[7, 5] > 0.5"
   ]
  },
  {
   "cell_type": "markdown",
   "metadata": {},
   "source": [
    "## Manipulate and Aggregate Data"
   ]
  },
  {
   "cell_type": "markdown",
   "metadata": {},
   "source": [
    "### Question 7. How many GDP values in the array are higher than 0.5 trillion US Dollars?\n",
    "\n",
    "*Hint: use `np.sum()` to count the number of True elements.*"
   ]
  },
  {
   "cell_type": "code",
   "execution_count": 9,
   "metadata": {},
   "outputs": [
    {
     "data": {
      "text/plain": [
       "142"
      ]
     },
     "execution_count": 9,
     "metadata": {},
     "output_type": "execute_result"
    }
   ],
   "source": [
    "pass\n",
    "np.sum(gdp > 0.5)"
   ]
  },
  {
   "cell_type": "markdown",
   "metadata": {},
   "source": [
    "### Question 8. How many countries had a GDP higher than 0.5 trillion US Dollars in 2017? "
   ]
  },
  {
   "cell_type": "code",
   "execution_count": 10,
   "metadata": {},
   "outputs": [
    {
     "data": {
      "text/plain": [
       "23"
      ]
     },
     "execution_count": 10,
     "metadata": {},
     "output_type": "execute_result"
    }
   ],
   "source": [
    "pass\n",
    "np.sum(gdp[:,5] > 0.5)"
   ]
  },
  {
   "cell_type": "markdown",
   "metadata": {},
   "source": [
    "### Question 9. Out of those countries that had a GDP higher than 0.5 trillion US Dollars in 2017, how many countries' GDP in 2016 was lower than 0.5 trillion US Dollars?"
   ]
  },
  {
   "cell_type": "code",
   "execution_count": 11,
   "metadata": {},
   "outputs": [
    {
     "data": {
      "text/plain": [
       "1"
      ]
     },
     "execution_count": 11,
     "metadata": {},
     "output_type": "execute_result"
    }
   ],
   "source": [
    "pass\n",
    "np.sum(gdp[gdp[:, 5] > 0.5, 4] < 0.5)"
   ]
  },
  {
   "cell_type": "markdown",
   "metadata": {},
   "source": [
    "### Question 10. How many countries had a lower GDP in 2017 than in 2016?"
   ]
  },
  {
   "cell_type": "code",
   "execution_count": 12,
   "metadata": {},
   "outputs": [
    {
     "data": {
      "text/plain": [
       "14"
      ]
     },
     "execution_count": 12,
     "metadata": {},
     "output_type": "execute_result"
    }
   ],
   "source": [
    "pass\n",
    "np.sum(gdp[:, 4] > gdp[:, 5])"
   ]
  },
  {
   "cell_type": "markdown",
   "metadata": {},
   "source": [
    "### Question 11. Output the row index of the country with the highest GDP in 2015.\n",
    "\n",
    "*Hint: use `np.argmax()`.*"
   ]
  },
  {
   "cell_type": "code",
   "execution_count": 13,
   "metadata": {},
   "outputs": [
    {
     "data": {
      "text/plain": [
       "187"
      ]
     },
     "execution_count": 13,
     "metadata": {},
     "output_type": "execute_result"
    }
   ],
   "source": [
    "pass\n",
    "np.argmax(gdp[:, 3])"
   ]
  },
  {
   "cell_type": "markdown",
   "metadata": {},
   "source": [
    "### Question 12. Output the first fifteen countries' respective average yearly GDP from 2012 through 2017.\n",
    "\n",
    "- Hint: use parameter `axis` in `np.mean()`."
   ]
  },
  {
   "cell_type": "code",
   "execution_count": 14,
   "metadata": {},
   "outputs": [
    {
     "data": {
      "text/plain": [
       "array([2.01000000e-02, 1.24333333e-02, 1.87733333e-01, 6.33333333e-04,\n",
       "       3.10000000e-03, 1.24983333e-01, 1.35000000e-03, 5.69866667e-01,\n",
       "       1.09833333e-02, 2.61666667e-03, 1.41370000e+00, 4.12366667e-01,\n",
       "       5.85000000e-02, 1.13500000e-02, 3.25666667e-02])"
      ]
     },
     "execution_count": 14,
     "metadata": {},
     "output_type": "execute_result"
    }
   ],
   "source": [
    "pass\n",
    "np.mean(gdp[0:15, :], axis = 1)"
   ]
  },
  {
   "cell_type": "markdown",
   "metadata": {},
   "source": [
    "### Question 13. What was the global GDP in 2016 and 2017, respectively?"
   ]
  },
  {
   "cell_type": "code",
   "execution_count": 15,
   "metadata": {},
   "outputs": [
    {
     "name": "stdout",
     "output_type": "stream",
     "text": [
      "The global GDP in 2016 is:74.9563\n",
      "The global GDP in 2017 is:79.66299999999998\n"
     ]
    }
   ],
   "source": [
    "pass\n",
    "print('The global GDP in 2016 is:' + str(np.sum(gdp[:, 4])))\n",
    "print('The global GDP in 2017 is:' + str(np.sum(gdp[:, 5])))"
   ]
  },
  {
   "cell_type": "markdown",
   "metadata": {},
   "source": [
    "### Question 14. What was the fifth highest national GDP in 2017?\n",
    "\n",
    "*Hint: use `np.sort()`.*"
   ]
  },
  {
   "cell_type": "code",
   "execution_count": 16,
   "metadata": {},
   "outputs": [
    {
     "data": {
      "text/plain": [
       "2.6526"
      ]
     },
     "execution_count": 16,
     "metadata": {},
     "output_type": "execute_result"
    }
   ],
   "source": [
    "pass\n",
    "np.sort(gdp[:, 5])[-5]"
   ]
  },
  {
   "cell_type": "markdown",
   "metadata": {},
   "source": [
    "### Question 15. How many countries' GDP increased by at least 30% from 2012 to 2017?"
   ]
  },
  {
   "cell_type": "code",
   "execution_count": 17,
   "metadata": {},
   "outputs": [
    {
     "data": {
      "text/plain": [
       "38"
      ]
     },
     "execution_count": 17,
     "metadata": {},
     "output_type": "execute_result"
    }
   ],
   "source": [
    "pass\n",
    "np.sum(gdp[:, 0] * 1.3 < gdp[:, 5])"
   ]
  }
 ],
 "metadata": {
  "kernelspec": {
   "display_name": "Python 3",
   "language": "python",
   "name": "python3"
  },
  "language_info": {
   "codemirror_mode": {
    "name": "ipython",
    "version": 3
   },
   "file_extension": ".py",
   "mimetype": "text/x-python",
   "name": "python",
   "nbconvert_exporter": "python",
   "pygments_lexer": "ipython3",
   "version": "3.7.3"
  }
 },
 "nbformat": 4,
 "nbformat_minor": 2
}
