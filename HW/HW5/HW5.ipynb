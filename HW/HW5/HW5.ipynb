{
 "cells": [
  {
   "cell_type": "markdown",
   "metadata": {},
   "source": [
    "# Grade translator\n",
    "## The grade scale is as follows:\n",
    "1. 90 - 100 A;\n",
    "2. 80 - 89 B;\n",
    "3. 70 - 79 C;\n",
    "4. 60 - 69 D;\n",
    "5. 0 - 59 F."
   ]
  },
  {
   "cell_type": "code",
   "execution_count": 2,
   "metadata": {},
   "outputs": [
    {
     "name": "stdout",
     "output_type": "stream",
     "text": [
      "Please input your grade:1\n",
      "You get an F\n"
     ]
    }
   ],
   "source": [
    "grade = float(input('Please input your grade:'))\n",
    "if grade >= 90:\n",
    "    print('You get an A')\n",
    "elif grade >= 80:\n",
    "    print('You get an B')\n",
    "elif grade >= 70:\n",
    "    print('You get an C')\n",
    "elif grade >= 60:\n",
    "    print('You get an D')\n",
    "else:\n",
    "    print('You get an F')"
   ]
  },
  {
   "cell_type": "markdown",
   "metadata": {},
   "source": [
    "# Merge the same values in two list"
   ]
  },
  {
   "cell_type": "code",
   "execution_count": 52,
   "metadata": {},
   "outputs": [
    {
     "name": "stdout",
     "output_type": "stream",
     "text": [
      "[2, 4, 6, 8, 10]\n"
     ]
    }
   ],
   "source": [
    "alist = [1,2,3,4,5,6,7,8,9,10]\n",
    "blist = [2,4,6,8,10]\n",
    "clist = [x for x in alist if x == x in blist]\n",
    "print(clist)"
   ]
  },
  {
   "cell_type": "markdown",
   "metadata": {},
   "source": [
    "# Create a matrix without using numpy"
   ]
  },
  {
   "cell_type": "code",
   "execution_count": 68,
   "metadata": {},
   "outputs": [
    {
     "name": "stdout",
     "output_type": "stream",
     "text": [
      "[[1, 2, 3, 4, 5], [2, 4, 6, 8, 10], [3, 6, 9, 12, 15], [4, 8, 12, 16, 20]]\n"
     ]
    }
   ],
   "source": [
    "matrix = [[i for i in range(1,6)],[j for j in range(2,11,2)],[k for k in range(3,16,3)],[v for v in range(4,21,4)]]\n",
    "print(matrix)"
   ]
  },
  {
   "cell_type": "markdown",
   "metadata": {},
   "source": [
    "# Create a list that output numbers between 100 to 400 with all digits are even"
   ]
  },
  {
   "cell_type": "code",
   "execution_count": 82,
   "metadata": {},
   "outputs": [
    {
     "name": "stdout",
     "output_type": "stream",
     "text": [
      "[111, 113, 115, 117, 119, 131, 133, 135, 137, 139, 151, 153, 155, 157, 159, 171, 173, 175, 177, 179, 191, 193, 195, 197, 199, 311, 313, 315, 317, 319, 331, 333, 335, 337, 339, 351, 353, 355, 357, 359, 371, 373, 375, 377, 379, 391, 393, 395, 397, 399]\n"
     ]
    }
   ],
   "source": [
    "three_digit_num = list(range(100,401))\n",
    "even_digit_num = []\n",
    "for i in three_digit_num:\n",
    "    if i // 1 % 2:\n",
    "        if i // 10 % 2:\n",
    "            if i // 100 % 2:\n",
    "                even_digit_num.append(i)\n",
    "print(even_digit_num)"
   ]
  },
  {
   "cell_type": "markdown",
   "metadata": {},
   "source": [
    "# Combine two dictionaries"
   ]
  },
  {
   "cell_type": "code",
   "execution_count": 103,
   "metadata": {},
   "outputs": [
    {
     "name": "stdout",
     "output_type": "stream",
     "text": [
      "[('a', 250), ('b', 320), ('c', 400), ('d', 10), ('e', 60)]\n"
     ]
    }
   ],
   "source": [
    "adict = {'a': 200, 'b': 300, 'c': 400}\n",
    "bdict = {'a': 50, 'b': 20, 'd': 10, 'e': 60}\n",
    "cdict = bdict.copy()\n",
    "for k,v in adict.items():\n",
    "    if k in cdict.keys():\n",
    "        cdict[k] += v\n",
    "    else:\n",
    "        cdict[k] = v\n",
    "print(sorted(cdict.items()))"
   ]
  },
  {
   "cell_type": "code",
   "execution_count": null,
   "metadata": {},
   "outputs": [],
   "source": []
  }
 ],
 "metadata": {
  "kernelspec": {
   "display_name": "Python 3",
   "language": "python",
   "name": "python3"
  },
  "language_info": {
   "codemirror_mode": {
    "name": "ipython",
    "version": 3
   },
   "file_extension": ".py",
   "mimetype": "text/x-python",
   "name": "python",
   "nbconvert_exporter": "python",
   "pygments_lexer": "ipython3",
   "version": "3.7.3"
  }
 },
 "nbformat": 4,
 "nbformat_minor": 2
}
