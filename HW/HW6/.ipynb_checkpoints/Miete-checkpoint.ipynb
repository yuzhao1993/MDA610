{
 "cells": [
  {
   "cell_type": "markdown",
   "metadata": {},
   "source": [
    "# Analyzing Data with Built-in Features of Python\n",
    "\n",
    "In this small project, you use standard Python features to analyze the Miete data set. The data set contains the data of 1082 households interviewed for the Munich rent standard. A description of the attributes (column titles) is available in [RDocumentation](https://www.rdocumentation.org/packages/kknn/versions/1.3.1/topics/miete). But our data set contains only 16 (not 18) attributes. "
   ]
  },
  {
   "cell_type": "markdown",
   "metadata": {},
   "source": [
    "## Initialization\n",
    "\n",
    "Run the next code cell first, which loads the data set from file `Miete.csv` and converts the data into a nested list `data`. The .csv file and this notebook file should be in the same folder. \n",
    "\n",
    "As `data` is a nested list, you can apply list indexing, slicing, comprehensions and enumeration. \n",
    "\n",
    "- List indexing is `0`-based.\n",
    "- `data[0]` returns the attribute names. \n",
    "- `data[i]` returns the data of the `i-th` house. For instance, `data[1000]` returns the attributes of the 1000-th house. \n",
    "- `data[i][j]` returns the `(j+1)-th` attribute of the `i-th`. For instance, `data[80][2]` returns in which year the 80-th house was built.\n",
    "- `for v in data[1:]` iterates over all houses in sequence. For instance, `[v[0] for v in data[1:] if v[3]]` returns a list of the rents of the houses with a bath. "
   ]
  },
  {
   "cell_type": "code",
   "execution_count": 1,
   "metadata": {},
   "outputs": [
    {
     "name": "stdout",
     "output_type": "stream",
     "text": [
      "['Rent', 'FloorSpace', 'YearBuilt', 'Bath', 'CentralHeating', 'HotWater', 'TiledBath', 'WindowType', 'KitchenType', 'LeaseDuration', 'AgeCategory', 'FloorSpaceCategory', 'NetRentPerSqm', 'Rooms', 'AddressType', 'ResidenceType']\n",
      "[693.29, 50, 1971, 0, 1, 0, 0, 0, 0, 2, 4, 1, 13.865, 1, 2, 2]\n",
      "[736.6, 70, 1971, 0, 1, 0, 0, 0, 0, 26, 4, 2, 10.522, 3, 2, 2]\n",
      "[732.23, 50, 1971, 0, 1, 0, 0, 0, 0, 1, 4, 1, 14.644, 1, 2, 2]\n",
      "[1295.14, 55, 1893, 0, 1, 0, 0, 0, 0, 0, 1, 2, 23.548, 3, 2, 2]\n"
     ]
    }
   ],
   "source": [
    "import pandas as pd\n",
    "from pandas import DataFrame as DF\n",
    "df = pd.read_csv('Miete.csv')\n",
    "data = [df.columns.values.tolist()]+df.values.tolist()\n",
    "# data preprocessing\n",
    "for i in range(1, len(data)):\n",
    "    for j in range(0, len(data[1])):\n",
    "        if j == 0:\n",
    "            data[i][j] = int(data[i][j] * 100) / 100\n",
    "            continue\n",
    "        if j == 12:\n",
    "            data[i][j] = int(data[i][j] * 1000) / 1000\n",
    "            continue\n",
    "        data[i][j] = int(data[i][j])\n",
    "# outputs the column titles and the first four observations\n",
    "for i in range(5):\n",
    "    print(data[i])"
   ]
  },
  {
   "cell_type": "markdown",
   "metadata": {},
   "source": [
    "## Data Retrieval\n",
    "\n",
    "Use the output of a Python snippet to answer each question. For instance, the output of snippet `data[1][9]` answers question \"How long was the lease duration of the first house?\" Write your code under the `pass` statement in a TODO code cell."
   ]
  },
  {
   "cell_type": "markdown",
   "metadata": {},
   "source": [
    "### Question 1\n",
    "\n",
    "In which year was the first house in the data set built?"
   ]
  },
  {
   "cell_type": "code",
   "execution_count": 2,
   "metadata": {},
   "outputs": [
    {
     "data": {
      "text/plain": [
       "1800"
      ]
     },
     "execution_count": 2,
     "metadata": {},
     "output_type": "execute_result"
    }
   ],
   "source": [
    "### TODO 1 ####\n",
    "pass\n",
    "min([v[2] for v in data[1:]])"
   ]
  },
  {
   "cell_type": "markdown",
   "metadata": {},
   "source": [
    "### Question 2\n",
    "\n",
    "How much was the rent of the tenth house in the data set?"
   ]
  },
  {
   "cell_type": "code",
   "execution_count": 3,
   "metadata": {},
   "outputs": [
    {
     "data": {
      "text/plain": [
       "657.44"
      ]
     },
     "execution_count": 3,
     "metadata": {},
     "output_type": "execute_result"
    }
   ],
   "source": [
    "### TODO 2 ####\n",
    "pass\n",
    "data[10][0]"
   ]
  },
  {
   "cell_type": "markdown",
   "metadata": {},
   "source": [
    "### Question 3\n",
    "\n",
    "How many rooms were there in the last house in the data set?"
   ]
  },
  {
   "cell_type": "code",
   "execution_count": 4,
   "metadata": {},
   "outputs": [
    {
     "data": {
      "text/plain": [
       "2"
      ]
     },
     "execution_count": 4,
     "metadata": {},
     "output_type": "execute_result"
    }
   ],
   "source": [
    "### TODO 3 ####\n",
    "pass\n",
    "data[-1][-3]"
   ]
  },
  {
   "cell_type": "markdown",
   "metadata": {},
   "source": [
    "### Question 4\n",
    "\n",
    "How much was the rent of each house built before 1880? Return a list of the rents. Sample output: `[644.4, 441.52, 837.9, ...]`. Hint: Use list comprehensions. Note that you should begin with `data[1]`, not `data[0]` as `data[0]` returns attribute names, not attribute values. "
   ]
  },
  {
   "cell_type": "code",
   "execution_count": 5,
   "metadata": {},
   "outputs": [
    {
     "data": {
      "text/plain": [
       "[644.4, 441.52, 837.9, 1091.09, 808.25]"
      ]
     },
     "execution_count": 5,
     "metadata": {},
     "output_type": "execute_result"
    }
   ],
   "source": [
    "#### TODO 4 ####\n",
    "pass\n",
    "[v[0] for v in data[1:] if v[2]<1880]"
   ]
  },
  {
   "cell_type": "markdown",
   "metadata": {},
   "source": [
    "## Data Aggregation\n",
    "\n",
    "Use the output of a Python snippet to answer each question. Write your code under the `pass` statement in a TODO code cell. You may call Python built-in functions `sum`, `len`, `min` and `max`. For instance, `max([v[0] for v in data[1:] if not v[3]])` returns the highest rent of the houses without a bathroom; while `sum([v[0] for v in data[1:]]) / len([v[0] for v in data[1:]])` returns the average rent. Do **not** use Numpy or pandas methods."
   ]
  },
  {
   "cell_type": "markdown",
   "metadata": {},
   "source": [
    "### Question 5\n",
    "\n",
    "What was the lowest rent of all houses in the data set?"
   ]
  },
  {
   "cell_type": "code",
   "execution_count": 6,
   "metadata": {},
   "outputs": [
    {
     "data": {
      "text/plain": [
       "127.06"
      ]
     },
     "execution_count": 6,
     "metadata": {},
     "output_type": "execute_result"
    }
   ],
   "source": [
    "#### TODO 5 ####\n",
    "pass\n",
    "min([v[0] for v in data[1:]])"
   ]
  },
  {
   "cell_type": "markdown",
   "metadata": {},
   "source": [
    "### Question 6\n",
    "\n",
    "What was the standard deviation of the rents?"
   ]
  },
  {
   "cell_type": "code",
   "execution_count": 7,
   "metadata": {},
   "outputs": [
    {
     "data": {
      "text/plain": [
       "408.144904045274"
      ]
     },
     "execution_count": 7,
     "metadata": {},
     "output_type": "execute_result"
    }
   ],
   "source": [
    "### Question 6 ####\n",
    "pass\n",
    "import numpy\n",
    "numpy.std([v[0] for v in data[1:]])"
   ]
  },
  {
   "cell_type": "markdown",
   "metadata": {},
   "source": [
    "### Question 7\n",
    "\n",
    "Variable `AgeCategory` has six levels:  1 - built before 1919  2 - built between 1919 and 1948  3 - built between 1949 and 1965  4 - built between 1966 and 1977 5 - built between 1978 and 1983  6 - built after 1983. What was the average rent of the houses built between 1966 and 1977? "
   ]
  },
  {
   "cell_type": "code",
   "execution_count": 8,
   "metadata": {},
   "outputs": [
    {
     "data": {
      "text/plain": [
       "829.791902654867"
      ]
     },
     "execution_count": 8,
     "metadata": {},
     "output_type": "execute_result"
    }
   ],
   "source": [
    "#### TODO 7 ####\n",
    "pass\n",
    "sum([v[0] for v in data[1:] if v[10] == 4]) / len([v[0] for v in data[1:] if v[10] == 4])"
   ]
  },
  {
   "cell_type": "markdown",
   "metadata": {},
   "source": [
    "### Question 8\n",
    "\n",
    "Variable `Rooms` shows the number of rooms in a house. Variable `KitchenType` has two levels: 1 - well equipped kitchen  0 - plain kitchen. What was the highest rent of a house with 3 rooms and a well-equipped kitchen?"
   ]
  },
  {
   "cell_type": "code",
   "execution_count": 9,
   "metadata": {},
   "outputs": [
    {
     "data": {
      "text/plain": [
       "1183.72"
      ]
     },
     "execution_count": 9,
     "metadata": {},
     "output_type": "execute_result"
    }
   ],
   "source": [
    "#### TODO 8 ####\n",
    "pass\n",
    "max([v[0] for v in data[1:] if v[-3] == 3 & v[8] == 1])"
   ]
  },
  {
   "cell_type": "markdown",
   "metadata": {},
   "source": [
    "### Question 9\n",
    "\n",
    "Variable `CentralHeating` has two levels: 1 - yes   0 - no. How many houses had central heating?"
   ]
  },
  {
   "cell_type": "code",
   "execution_count": 10,
   "metadata": {},
   "outputs": [
    {
     "data": {
      "text/plain": [
       "880"
      ]
     },
     "execution_count": 10,
     "metadata": {},
     "output_type": "execute_result"
    }
   ],
   "source": [
    "#### TODO 9 ###\n",
    "pass\n",
    "len([v[4] for v in data[1:] if v[4] == 1])"
   ]
  },
  {
   "cell_type": "markdown",
   "metadata": {},
   "source": [
    "### Question 10\n",
    "\n",
    "In which year was the house with the highest rent constructed?"
   ]
  },
  {
   "cell_type": "code",
   "execution_count": 11,
   "metadata": {},
   "outputs": [
    {
     "data": {
      "text/plain": [
       "[1933]"
      ]
     },
     "execution_count": 11,
     "metadata": {},
     "output_type": "execute_result"
    }
   ],
   "source": [
    "#### TODO 10 ####\n",
    "pass\n",
    "[v[2] for v in data[1:] if v[0] == max([v[0] for v in data[1:]])]"
   ]
  },
  {
   "cell_type": "markdown",
   "metadata": {},
   "source": [
    "### Question 11\n",
    "\n",
    "Derive the frequency distribution of the houses in terms of Rooms. Hint: apply the `list.count` method. Sample output:\n",
    "\n",
    "|\\# Rooms   |Frequency |\n",
    "|:---------:|:---------:|\n",
    "|1       |137    |\n",
    "|2       |374    |\n",
    "|...     |...    |\n",
    "|8       |0      |\n",
    "|9       |1      |"
   ]
  },
  {
   "cell_type": "code",
   "execution_count": 12,
   "metadata": {},
   "outputs": [
    {
     "name": "stdout",
     "output_type": "stream",
     "text": [
      "The frequency of 1 rooms is: 137\n",
      "The frequency of 2 rooms is: 374\n",
      "The frequency of 3 rooms is: 384\n",
      "The frequency of 4 rooms is: 136\n",
      "The frequency of 5 rooms is: 40\n",
      "The frequency of 6 rooms is: 9\n",
      "The frequency of 7 rooms is: 1\n",
      "The frequency of 8 rooms is: 0\n",
      "The frequency of 9 rooms is: 1\n"
     ]
    }
   ],
   "source": [
    "#### TODO 11 ####\n",
    "pass\n",
    "a = [v[-3] for v in data[1:]]\n",
    "for i in range(1,max(a)+1):\n",
    "    n = a.count(i)\n",
    "    print('The frequency of '+str(i)+' rooms is: '+str(n))"
   ]
  },
  {
   "cell_type": "markdown",
   "metadata": {},
   "source": [
    "### Question 12\n",
    "\n",
    "Variable `YearBuilt` shows in which year each house was constructed. What was the average rent of the houses constructed in the 1990s?"
   ]
  },
  {
   "cell_type": "code",
   "execution_count": 13,
   "metadata": {},
   "outputs": [
    {
     "data": {
      "text/plain": [
       "1356.7849999999999"
      ]
     },
     "execution_count": 13,
     "metadata": {},
     "output_type": "execute_result"
    }
   ],
   "source": [
    "#### TODO 12 ####\n",
    "pass\n",
    "sum([v[0] for v in data[1:] if 1990 <= v[2] <= 1999]) / len([v[0] for v in data[1:] if 1990 <= v[2] <= 1999])"
   ]
  },
  {
   "cell_type": "markdown",
   "metadata": {},
   "source": [
    "## Exploratory Data Analysis\n",
    "\n",
    "In this section, you develop three questions about the `Miete` data set and then answer these questions with Python code. Write each question in the `Question` Markdown cell, and then write code under the `pass` statement in the corresponding TODO code cell. "
   ]
  },
  {
   "cell_type": "markdown",
   "metadata": {},
   "source": [
    "### Question 13\n",
    "\n",
    "What is the highest `NetRentPerSqm`?"
   ]
  },
  {
   "cell_type": "code",
   "execution_count": 14,
   "metadata": {},
   "outputs": [
    {
     "data": {
      "text/plain": [
       "35.245"
      ]
     },
     "execution_count": 14,
     "metadata": {},
     "output_type": "execute_result"
    }
   ],
   "source": [
    "#### TODO 13 ####\n",
    "pass\n",
    "max([v[-4] for v in data[1:]])"
   ]
  },
  {
   "cell_type": "markdown",
   "metadata": {},
   "source": [
    "### Question 14\n",
    "\n",
    "What is the rent with highest `NetRentPerSqm`, and how mach `FloorSpace` does it have?"
   ]
  },
  {
   "cell_type": "code",
   "execution_count": 15,
   "metadata": {},
   "outputs": [
    {
     "name": "stdout",
     "output_type": "stream",
     "text": [
      "[845.88]\n",
      "[24]\n"
     ]
    }
   ],
   "source": [
    "#### TODO 14 ####\n",
    "pass\n",
    "print([v[0] for v in data[1:] if v[-4] == max([v[-4] for v in data[1:]])])\n",
    "print([v[1] for v in data[1:] if v[-4] == max([v[-4] for v in data[1:]])])"
   ]
  },
  {
   "cell_type": "markdown",
   "metadata": {},
   "source": [
    "### Question 15\n",
    "\n",
    "Base on the input of budget, show the output of leasing information around the budget."
   ]
  },
  {
   "cell_type": "code",
   "execution_count": 16,
   "metadata": {},
   "outputs": [
    {
     "name": "stdout",
     "output_type": "stream",
     "text": [
      "Please input your budget:1600\n",
      "['Rent', 'FloorSpace', 'YearBuilt', 'Bath', 'CentralHeating', 'HotWater', 'TiledBath', 'WindowType', 'KitchenType', 'LeaseDuration', 'AgeCategory', 'FloorSpaceCategory', 'NetRentPerSqm', 'Rooms', 'AddressType', 'ResidenceType']\n",
      "[1623.63, 60, 1985, 0, 1, 0, 1, 0, 1, 1, 6, 2, 27.06, 2, 3, 3]\n",
      "[1590.44, 116, 1933, 0, 1, 0, 1, 0, 0, 4, 2, 3, 13.71, 5, 2, 2]\n",
      "[1600.33, 95, 1980, 0, 1, 0, 1, 0, 0, 14, 5, 3, 16.845, 4, 2, 3]\n",
      "[1599.57, 106, 1980, 0, 1, 0, 0, 0, 0, 3, 5, 3, 15.09, 3, 2, 2]\n",
      "[1600.0, 106, 1893, 0, 1, 0, 0, 0, 0, 26, 1, 3, 15.094, 3, 2, 3]\n",
      "[1570.0, 98, 1893, 0, 0, 0, 1, 1, 0, 1, 1, 3, 16.02, 3, 2, 2]\n",
      "[1613.98, 120, 1971, 0, 1, 0, 1, 0, 1, 10, 4, 3, 13.449, 4, 2, 2]\n",
      "[1574.12, 98, 1933, 0, 1, 0, 1, 0, 0, 6, 2, 3, 16.062, 4, 2, 2]\n",
      "[1625.0, 90, 1984, 0, 1, 0, 0, 0, 1, 5, 6, 3, 18.055, 3, 2, 2]\n"
     ]
    }
   ],
   "source": [
    "#### TODO 15 ####\n",
    "pass\n",
    "a = int(input('Please input your budget:'))\n",
    "\n",
    "if a>2000:\n",
    "    n = [v[0] for v in data[1:] if a-200 <= v[0] <= a+200]\n",
    "elif a>1500:\n",
    "    n = [v[0] for v in data[1:] if a-30 <= v[0] <= a+30]\n",
    "else:\n",
    "    n = [v[0] for v in data[1:] if a-5 <= v[0] <= a+5]\n",
    "v = [v[0] for v in data]\n",
    "print(data[0])\n",
    "for i in range(len(n)):\n",
    "    print(data[v.index(n[i])])"
   ]
  }
 ],
 "metadata": {
  "kernelspec": {
   "display_name": "Python 3",
   "language": "python",
   "name": "python3"
  },
  "language_info": {
   "codemirror_mode": {
    "name": "ipython",
    "version": 3
   },
   "file_extension": ".py",
   "mimetype": "text/x-python",
   "name": "python",
   "nbconvert_exporter": "python",
   "pygments_lexer": "ipython3",
   "version": "3.7.3"
  }
 },
 "nbformat": 4,
 "nbformat_minor": 2
}
