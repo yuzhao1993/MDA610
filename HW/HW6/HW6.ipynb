{
 "cells": [
  {
   "cell_type": "code",
   "execution_count": 1,
   "metadata": {},
   "outputs": [
    {
     "data": {
      "text/plain": [
       "{'a': 2, 'l': 2, 's': 2, 'd': 2, 'f': 2, 'b': 1, 'i': 1, 'u': 1, 'n': 1}"
      ]
     },
     "execution_count": 1,
     "metadata": {},
     "output_type": "execute_result"
    }
   ],
   "source": [
    "def freq(x):\n",
    "    n = {}\n",
    "    for char in x:\n",
    "        if char not in n:\n",
    "            n[char] = 1\n",
    "        else:\n",
    "            n[char] += 1\n",
    "    return n\n",
    "\n",
    "a = 'alsdfbilunfads'\n",
    "freq(a)"
   ]
  },
  {
   "cell_type": "code",
   "execution_count": 2,
   "metadata": {},
   "outputs": [
    {
     "name": "stdout",
     "output_type": "stream",
     "text": [
      "min is: -2.6 \n",
      "max is: 348\n"
     ]
    }
   ],
   "source": [
    "def min_and_max(x):\n",
    "    m = min(x)\n",
    "    n = max(x)\n",
    "    print('min is: '+str(m),'\\nmax is: '+str(n))\n",
    "\n",
    "a = [2,6,9,108,348,0.3,-2.6]\n",
    "min_and_max(a)"
   ]
  },
  {
   "cell_type": "code",
   "execution_count": 3,
   "metadata": {},
   "outputs": [
    {
     "data": {
      "text/plain": [
       "[1, 5, 6, 11, 17, 21.5, 21.6]"
      ]
     },
     "execution_count": 3,
     "metadata": {},
     "output_type": "execute_result"
    }
   ],
   "source": [
    "def cum_sum(x):\n",
    "    for i in range(len(x)):\n",
    "        if i == 0:\n",
    "            x[i]=x[i]\n",
    "        else:\n",
    "            x[i]=x[i-1]+x[i]\n",
    "    return x\n",
    "\n",
    "a = [1,4,1,5,6,4.5,0.1]\n",
    "cum_sum(a)"
   ]
  },
  {
   "cell_type": "code",
   "execution_count": 4,
   "metadata": {},
   "outputs": [
    {
     "data": {
      "text/plain": [
       "22"
      ]
     },
     "execution_count": 4,
     "metadata": {},
     "output_type": "execute_result"
    }
   ],
   "source": [
    "def dot(x,y):\n",
    "    if len(x) == len(y):\n",
    "        sum = 0\n",
    "        for i in range(len(x)):\n",
    "            n = x[i]*y[i]\n",
    "            sum += n\n",
    "        return sum\n",
    "            \n",
    "    else:\n",
    "        print('Error: Two list length are not equal')\n",
    "\n",
    "x = [1,5,2,6]\n",
    "y = [0,2,3,1]\n",
    "dot(x,y)"
   ]
  },
  {
   "cell_type": "code",
   "execution_count": null,
   "metadata": {},
   "outputs": [],
   "source": []
  }
 ],
 "metadata": {
  "kernelspec": {
   "display_name": "Python 3",
   "language": "python",
   "name": "python3"
  },
  "language_info": {
   "codemirror_mode": {
    "name": "ipython",
    "version": 3
   },
   "file_extension": ".py",
   "mimetype": "text/x-python",
   "name": "python",
   "nbconvert_exporter": "python",
   "pygments_lexer": "ipython3",
   "version": "3.7.3"
  }
 },
 "nbformat": 4,
 "nbformat_minor": 2
}
